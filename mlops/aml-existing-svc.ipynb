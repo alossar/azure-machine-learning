{
 "cells": [
  {
   "cell_type": "markdown",
   "metadata": {},
   "source": [
    "Workspace"
   ]
  },
  {
   "cell_type": "code",
   "execution_count": null,
   "metadata": {},
   "outputs": [],
   "source": [
    "from azureml.core import Workspace\n",
    "ws = Workspace.from_config()\n",
    "\n",
    "print(\"Azure ML Workspace\")\n",
    "print(f'Name: {ws.name}')"
   ]
  },
  {
   "cell_type": "markdown",
   "metadata": {},
   "source": [
    "Cargamos servicio"
   ]
  },
  {
   "cell_type": "code",
   "execution_count": null,
   "metadata": {},
   "outputs": [],
   "source": [
    "from azureml.core.webservice import Webservice\n",
    "\n",
    "service = Webservice(ws, 'keras-concrete-svc')\n",
    "print(service.scoring_uri)"
   ]
  },
  {
   "cell_type": "code",
   "execution_count": null,
   "metadata": {},
   "outputs": [],
   "source": [
    "key1, Key2 = service.get_keys()"
   ]
  },
  {
   "cell_type": "markdown",
   "metadata": {},
   "source": [
    "Solicitud"
   ]
  },
  {
   "cell_type": "code",
   "execution_count": null,
   "metadata": {},
   "outputs": [],
   "source": [
    "import requests\n",
    "\n",
    "def test_endpoint(test_img, y):\n",
    "    input_data = \"{\\\"data\\\": [\" + str(np.array(test_img).tolist()) + \"]}\"\n",
    "\n",
    "    headers = {'Content-Type':'application/json', 'Authorization': 'Bearer ' + key1}\n",
    "\n",
    "    resp = requests.post(service.scoring_uri, input_data, headers=headers)\n",
    "\n",
    "    print(\"POST to url\", service.scoring_uri)\n",
    "    print(\"label:\", y)\n",
    "    print(\"prediction:\", resp.text)"
   ]
  },
  {
   "cell_type": "markdown",
   "metadata": {},
   "source": [
    "Prueba"
   ]
  },
  {
   "cell_type": "code",
   "execution_count": null,
   "metadata": {},
   "outputs": [],
   "source": [
    "import numpy as np\n",
    "import tensorflow as tf\n",
    "from tensorflow import keras\n",
    "\n",
    "negative_test_img = tf.keras.preprocessing.image.load_img(\n",
    "    'sample/negative/19751.jpg', grayscale=False, color_mode=\"rgb\", target_size=None, interpolation=\"nearest\"\n",
    ")\n",
    "\n",
    "positive_test_img = tf.keras.preprocessing.image.load_img(\n",
    "    'sample/positive/19754.jpg', grayscale=False, color_mode=\"rgb\", target_size=None, interpolation=\"nearest\"\n",
    ")\n",
    "\n",
    "test_endpoint(negative_test_img, 0)\n",
    "test_endpoint(positive_test_img, 1)"
   ]
  },
  {
   "cell_type": "code",
   "execution_count": null,
   "metadata": {},
   "outputs": [],
   "source": [
    "service.delete()"
   ]
  }
 ],
 "metadata": {
  "language_info": {
   "codemirror_mode": {
    "name": "ipython",
    "version": 3
   },
   "file_extension": ".py",
   "mimetype": "text/x-python",
   "name": "python",
   "nbconvert_exporter": "python",
   "pygments_lexer": "ipython3",
   "version": "3.6.5-final"
  },
  "orig_nbformat": 2,
  "kernelspec": {
   "name": "python36564bitamlconda456e0de0513441ffbb9e17463b6b5999",
   "display_name": "Python 3.6.5 64-bit ('aml': conda)"
  }
 },
 "nbformat": 4,
 "nbformat_minor": 2
}